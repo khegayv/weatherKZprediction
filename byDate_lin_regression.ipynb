{
 "cells": [
  {
   "cell_type": "code",
   "execution_count": 82,
   "metadata": {},
   "outputs": [],
   "source": [
    "import pandas as pd\n",
    "import numpy as np\n",
    "from sklearn.model_selection import train_test_split\n",
    "from sklearn.linear_model import LinearRegression\n",
    "from sklearn.preprocessing import StandardScaler\n",
    "import matplotlib.pyplot as plt\n"
   ]
  },
  {
   "cell_type": "code",
   "execution_count": 83,
   "metadata": {},
   "outputs": [
    {
     "name": "stdout",
     "output_type": "stream",
     "text": [
      "Index(['timestamp', 'Temperature', 'Precipitation', 'Snowfall',\n",
      "       'Totalcloudiness', 'Highcloudcover', 'Mediumcloudcover',\n",
      "       'Lowcloudcover', 'Pressure', 'WindSpeed', 'WindDirection', 'WindGusts'],\n",
      "      dtype='object')\n"
     ]
    }
   ],
   "source": [
    "train_data = pd.read_excel(\"Train.xlsx\")\n",
    "test_data = pd.read_excel(\"Test.xlsx\")\n",
    "data = pd.concat([train_data, test_data], axis=0) #Fusion of given datasets.\n",
    "print(data.columns) #Obtaining functioning names for parameter set\n",
    "\n"
   ]
  },
  {
   "cell_type": "code",
   "execution_count": 84,
   "metadata": {},
   "outputs": [],
   "source": [
    "#Parameter sets declaration\n",
    "input_parameters = [\"timestamp\"]\n",
    "output_parameters = [\n",
    "    \"Temperature\",\n",
    "    \"Precipitation\",\n",
    "    \"Snowfall\",\n",
    "    \"Totalcloudiness\",\n",
    "    \"Lowcloudcover\",\n",
    "    \"Mediumcloudcover\",\n",
    "    \"Highcloudcover\",\n",
    "    \"Pressure\",\n",
    "    \"WindSpeed\",\n",
    "    \"WindDirection\",\n",
    "    \"WindGusts\",\n",
    "]"
   ]
  },
  {
   "cell_type": "code",
   "execution_count": 85,
   "metadata": {},
   "outputs": [],
   "source": [
    "data[\"timestamp\"] = pd.to_datetime(data[\"timestamp\"], format=\"%d.%m.%Y %H:%M:%S\")\n",
    "data.set_index(\"timestamp\", inplace=True)\n",
    "data.sort_index(inplace=True)"
   ]
  },
  {
   "cell_type": "code",
   "execution_count": 86,
   "metadata": {},
   "outputs": [],
   "source": [
    "data.fillna(method=\"ffill\", inplace=True)"
   ]
  },
  {
   "cell_type": "code",
   "execution_count": 87,
   "metadata": {},
   "outputs": [],
   "source": [
    "test_dates = test_data[\"timestamp\"]"
   ]
  },
  {
   "cell_type": "code",
   "execution_count": 88,
   "metadata": {},
   "outputs": [],
   "source": [
    "scaler = StandardScaler()\n",
    "scaled_data = scaler.fit_transform(data)"
   ]
  },
  {
   "cell_type": "code",
   "execution_count": 89,
   "metadata": {},
   "outputs": [],
   "source": [
    "window_size = 24\n",
    "X = []\n",
    "y = []\n",
    "for i in range(len(data) - window_size):\n",
    "    X.append(scaled_data[i:i + window_size])\n",
    "    y.append(scaled_data[i + window_size])\n",
    "X = np.array(X)\n",
    "y = np.array(y)"
   ]
  },
  {
   "cell_type": "code",
   "execution_count": 90,
   "metadata": {},
   "outputs": [],
   "source": [
    "#dataset split\n",
    "train_size = len(train_data)\n",
    "X_train = X[:train_size]\n",
    "y_train = y[:train_size]\n",
    "X_test = X[train_size:]\n",
    "y_test = y[train_size:]"
   ]
  },
  {
   "cell_type": "code",
   "execution_count": 91,
   "metadata": {},
   "outputs": [],
   "source": [
    "X_train_flattened = X_train.reshape(X_train.shape[0], -1)\n",
    "X_test_flattened = X_test.reshape(X_test.shape[0], -1)"
   ]
  },
  {
   "cell_type": "code",
   "execution_count": 92,
   "metadata": {},
   "outputs": [
    {
     "data": {
      "text/html": [
       "<style>#sk-container-id-2 {color: black;background-color: white;}#sk-container-id-2 pre{padding: 0;}#sk-container-id-2 div.sk-toggleable {background-color: white;}#sk-container-id-2 label.sk-toggleable__label {cursor: pointer;display: block;width: 100%;margin-bottom: 0;padding: 0.3em;box-sizing: border-box;text-align: center;}#sk-container-id-2 label.sk-toggleable__label-arrow:before {content: \"▸\";float: left;margin-right: 0.25em;color: #696969;}#sk-container-id-2 label.sk-toggleable__label-arrow:hover:before {color: black;}#sk-container-id-2 div.sk-estimator:hover label.sk-toggleable__label-arrow:before {color: black;}#sk-container-id-2 div.sk-toggleable__content {max-height: 0;max-width: 0;overflow: hidden;text-align: left;background-color: #f0f8ff;}#sk-container-id-2 div.sk-toggleable__content pre {margin: 0.2em;color: black;border-radius: 0.25em;background-color: #f0f8ff;}#sk-container-id-2 input.sk-toggleable__control:checked~div.sk-toggleable__content {max-height: 200px;max-width: 100%;overflow: auto;}#sk-container-id-2 input.sk-toggleable__control:checked~label.sk-toggleable__label-arrow:before {content: \"▾\";}#sk-container-id-2 div.sk-estimator input.sk-toggleable__control:checked~label.sk-toggleable__label {background-color: #d4ebff;}#sk-container-id-2 div.sk-label input.sk-toggleable__control:checked~label.sk-toggleable__label {background-color: #d4ebff;}#sk-container-id-2 input.sk-hidden--visually {border: 0;clip: rect(1px 1px 1px 1px);clip: rect(1px, 1px, 1px, 1px);height: 1px;margin: -1px;overflow: hidden;padding: 0;position: absolute;width: 1px;}#sk-container-id-2 div.sk-estimator {font-family: monospace;background-color: #f0f8ff;border: 1px dotted black;border-radius: 0.25em;box-sizing: border-box;margin-bottom: 0.5em;}#sk-container-id-2 div.sk-estimator:hover {background-color: #d4ebff;}#sk-container-id-2 div.sk-parallel-item::after {content: \"\";width: 100%;border-bottom: 1px solid gray;flex-grow: 1;}#sk-container-id-2 div.sk-label:hover label.sk-toggleable__label {background-color: #d4ebff;}#sk-container-id-2 div.sk-serial::before {content: \"\";position: absolute;border-left: 1px solid gray;box-sizing: border-box;top: 0;bottom: 0;left: 50%;z-index: 0;}#sk-container-id-2 div.sk-serial {display: flex;flex-direction: column;align-items: center;background-color: white;padding-right: 0.2em;padding-left: 0.2em;position: relative;}#sk-container-id-2 div.sk-item {position: relative;z-index: 1;}#sk-container-id-2 div.sk-parallel {display: flex;align-items: stretch;justify-content: center;background-color: white;position: relative;}#sk-container-id-2 div.sk-item::before, #sk-container-id-2 div.sk-parallel-item::before {content: \"\";position: absolute;border-left: 1px solid gray;box-sizing: border-box;top: 0;bottom: 0;left: 50%;z-index: -1;}#sk-container-id-2 div.sk-parallel-item {display: flex;flex-direction: column;z-index: 1;position: relative;background-color: white;}#sk-container-id-2 div.sk-parallel-item:first-child::after {align-self: flex-end;width: 50%;}#sk-container-id-2 div.sk-parallel-item:last-child::after {align-self: flex-start;width: 50%;}#sk-container-id-2 div.sk-parallel-item:only-child::after {width: 0;}#sk-container-id-2 div.sk-dashed-wrapped {border: 1px dashed gray;margin: 0 0.4em 0.5em 0.4em;box-sizing: border-box;padding-bottom: 0.4em;background-color: white;}#sk-container-id-2 div.sk-label label {font-family: monospace;font-weight: bold;display: inline-block;line-height: 1.2em;}#sk-container-id-2 div.sk-label-container {text-align: center;}#sk-container-id-2 div.sk-container {/* jupyter's `normalize.less` sets `[hidden] { display: none; }` but bootstrap.min.css set `[hidden] { display: none !important; }` so we also need the `!important` here to be able to override the default hidden behavior on the sphinx rendered scikit-learn.org. See: https://github.com/scikit-learn/scikit-learn/issues/21755 */display: inline-block !important;position: relative;}#sk-container-id-2 div.sk-text-repr-fallback {display: none;}</style><div id=\"sk-container-id-2\" class=\"sk-top-container\"><div class=\"sk-text-repr-fallback\"><pre>LinearRegression()</pre><b>In a Jupyter environment, please rerun this cell to show the HTML representation or trust the notebook. <br />On GitHub, the HTML representation is unable to render, please try loading this page with nbviewer.org.</b></div><div class=\"sk-container\" hidden><div class=\"sk-item\"><div class=\"sk-estimator sk-toggleable\"><input class=\"sk-toggleable__control sk-hidden--visually\" id=\"sk-estimator-id-2\" type=\"checkbox\" checked><label for=\"sk-estimator-id-2\" class=\"sk-toggleable__label sk-toggleable__label-arrow\">LinearRegression</label><div class=\"sk-toggleable__content\"><pre>LinearRegression()</pre></div></div></div></div></div>"
      ],
      "text/plain": [
       "LinearRegression()"
      ]
     },
     "execution_count": 92,
     "metadata": {},
     "output_type": "execute_result"
    }
   ],
   "source": [
    "model = LinearRegression()\n",
    "model.fit(X_train_flattened, y_train)"
   ]
  },
  {
   "cell_type": "markdown",
   "metadata": {},
   "source": [
    "Raw prediction on entire dataframe displayed inside the output cell below.\n",
    "Input sample is a major segment taken from testing dataset (2023-06-02 to 2024-06-30)."
   ]
  },
  {
   "cell_type": "code",
   "execution_count": 93,
   "metadata": {},
   "outputs": [
    {
     "name": "stdout",
     "output_type": "stream",
     "text": [
      "                     Temperature  Precipitation  Snowfall  Totalcloudiness  \\\n",
      "timestamp                                                                    \n",
      "2023-06-02 00:00:00    20.103418       0.101871  0.006291        78.630703   \n",
      "2023-06-02 01:00:00    19.547866       0.010285  0.002714        47.322703   \n",
      "2023-06-02 02:00:00    18.592685       0.014465  0.003514        53.632705   \n",
      "2023-06-02 03:00:00    15.635357       0.023526  0.000807        53.532103   \n",
      "2023-06-02 04:00:00    13.033133       0.034255  0.003200        38.375644   \n",
      "...                          ...            ...       ...              ...   \n",
      "2023-06-30 19:00:00    22.698722       0.013032 -0.004872        45.875363   \n",
      "2023-06-30 20:00:00    22.345861       0.074179 -0.002540        67.197266   \n",
      "2023-06-30 21:00:00    21.693822      -0.037357 -0.000426        33.281553   \n",
      "2023-06-30 22:00:00    20.977570       0.087561 -0.005133        24.316740   \n",
      "2023-06-30 23:00:00    18.983391       0.076921 -0.002004        25.734914   \n",
      "\n",
      "                     Lowcloudcover  Mediumcloudcover  Highcloudcover  \\\n",
      "timestamp                                                              \n",
      "2023-06-02 00:00:00      32.159650         44.206153       72.177807   \n",
      "2023-06-02 01:00:00      31.176059         39.518306       25.996934   \n",
      "2023-06-02 02:00:00      39.107474         50.624613       15.418154   \n",
      "2023-06-02 03:00:00      37.213747         50.570042       11.728698   \n",
      "2023-06-02 04:00:00      28.705553         33.783275        9.422781   \n",
      "...                            ...               ...             ...   \n",
      "2023-06-30 19:00:00       8.688792          7.274931       45.092948   \n",
      "2023-06-30 20:00:00      10.514980          5.284240       66.663910   \n",
      "2023-06-30 21:00:00       4.622474          5.914291       31.467623   \n",
      "2023-06-30 22:00:00      -0.001396          2.958929       22.514032   \n",
      "2023-06-30 23:00:00       5.249272          5.249523       22.064660   \n",
      "\n",
      "                        Pressure  WindSpeed  WindDirection  WindGusts  \n",
      "timestamp                                                              \n",
      "2023-06-02 00:00:00  1015.567091   1.212007     234.349734   1.625774  \n",
      "2023-06-02 01:00:00  1015.770759   0.552583     239.957150   0.754474  \n",
      "2023-06-02 02:00:00  1015.334649   0.324850     243.730194   1.043577  \n",
      "2023-06-02 03:00:00  1016.343437   1.685935     267.403446   2.416990  \n",
      "2023-06-02 04:00:00  1017.188886   1.911404     261.369081   2.472062  \n",
      "...                          ...        ...            ...        ...  \n",
      "2023-06-30 19:00:00  1012.766684   3.768636     259.019759   5.052162  \n",
      "2023-06-30 20:00:00  1012.219333   3.161323     257.213573   5.249100  \n",
      "2023-06-30 21:00:00  1012.385951   3.820830     270.279974   5.639533  \n",
      "2023-06-30 22:00:00  1012.121623   2.897441     261.261197   4.739848  \n",
      "2023-06-30 23:00:00  1012.615586   2.234207     221.029409   3.724169  \n",
      "\n",
      "[696 rows x 11 columns]\n"
     ]
    }
   ],
   "source": [
    "predictions = model.predict(X_test_flattened)\n",
    "predictions = scaler.inverse_transform(predictions)\n",
    "output_df = pd.DataFrame(predictions, columns=output_parameters)\n",
    "output_df[\"timestamp\"] = test_dates.values[-len(output_df):]\n",
    "output_df.set_index(\"timestamp\", inplace=True)\n",
    "print(output_df)"
   ]
  },
  {
   "cell_type": "markdown",
   "metadata": {},
   "source": [
    "Basic stat. estimators' calculations shown below.\n",
    "Values are not perfect, however they represent comparatively high level of efficiency. (other models were tested)\n"
   ]
  },
  {
   "cell_type": "code",
   "execution_count": 94,
   "metadata": {},
   "outputs": [
    {
     "name": "stdout",
     "output_type": "stream",
     "text": [
      "Mean Absolute Error: 0.2054830926679661\n",
      "Mean Squared Error: 0.17058217313677126\n",
      "R-squared (R2) Score: -1.9156159045734946e+28\n"
     ]
    }
   ],
   "source": [
    "from sklearn.metrics import mean_absolute_error, mean_squared_error, r2_score\n",
    "\n",
    "mae = mean_absolute_error(y_test, model.predict(X_test_flattened))\n",
    "mse = mean_squared_error(y_test, model.predict(X_test_flattened))\n",
    "r2 = r2_score(y_test, model.predict(X_test_flattened))\n",
    "\n",
    "print(\"Mean Absolute Error:\", mae)\n",
    "print(\"Mean Squared Error:\", mse)\n",
    "print(\"R-squared (R2) Score:\", r2)"
   ]
  },
  {
   "cell_type": "markdown",
   "metadata": {},
   "source": [
    "Function below gives opportunity to observe how precise model is. The plot gives information on selected day from dataset to compare predicted parameter value and its actual magnitude.\n",
    "\n",
    "Use parameter names from following set: [\n",
    "\"Temperature\",\n",
    "\"Precipitation\",\n",
    "\"Snowfall\",\n",
    "\"Totalcloudiness\",\n",
    "\"Lowcloudcover\",\n",
    "\"Mediumcloudcover\",\n",
    "\"Highcloudcover\",\n",
    "\"Pressure\",\n",
    "\"WindSpeed\",\n",
    "\"WindDirection\",\n",
    "\"WindGusts\",\n",
    "]\n",
    "\n",
    "Don't forget to select day in between borders of 2023-06-02 and 2023-06-30\n"
   ]
  },
  {
   "cell_type": "code",
   "execution_count": 95,
   "metadata": {},
   "outputs": [],
   "source": [
    "def plot_prediction_graph(day_to_plot, unknown_parameter):\n",
    "    predicted_parameter = output_df.loc[day_to_plot, unknown_parameter]\n",
    "    actual_parameter = test_data.loc[test_data[\"timestamp\"].dt.date == pd.to_datetime(day_to_plot).date(), unknown_parameter]\n",
    "    hours = np.arange(0, len(predicted_parameter))\n",
    "    plt.plot(hours, predicted_parameter,label=f\"Predicted {unknown_parameter}\")\n",
    "    plt.plot(hours, actual_parameter, label=unknown_parameter)\n",
    "    plt.xlabel(\"Hour\")\n",
    "    plt.ylabel(unknown_parameter)\n",
    "    plt.title(f\"Predicted and Actual {unknown_parameter} on {day_to_plot}\")\n",
    "    plt.legend()\n",
    "    plt.grid(True)\n",
    "    plt.xticks(hours, rotation=45)\n",
    "    plt.show()\n"
   ]
  },
  {
   "cell_type": "code",
   "execution_count": 96,
   "metadata": {},
   "outputs": [
    {
     "data": {
      "image/png": "[encoded data removed]",
      "text/plain": [
       "<Figure size 640x480 with 1 Axes>"
      ]
     },
     "metadata": {},
     "output_type": "display_data"
    }
   ],
   "source": [
    "day_to_plot = \"2023-06-25\"\n",
    "unknown_parameter = \"Temperature\"\n",
    "\n",
    "plot_prediction_graph(day_to_plot, unknown_parameter)"
   ]
  },
  {
   "cell_type": "markdown",
   "metadata": {},
   "source": [
    "Work done before is a good foundation on weather forecasting. We can use obtained pattern recognition to draw forecats for future N number of days. Set number of desired days to get weather forecast. Notice, forecasts are precise only in scope of model's efficiency. Hence, the efficiency of model will decrease in correlation with prediction range. It means that with un-updated data temperature values will drop unnaturally."
   ]
  },
  {
   "cell_type": "code",
   "execution_count": 173,
   "metadata": {},
   "outputs": [],
   "source": [
    "# Change N to desired value\n",
    "N = 1"
   ]
  },
  {
   "cell_type": "code",
   "execution_count": 174,
   "metadata": {},
   "outputs": [],
   "source": [
    "future_dates = pd.date_range(test_dates.iloc[-1] + pd.Timedelta(hours=1), periods=24 * N, freq='H')"
   ]
  },
  {
   "cell_type": "code",
   "execution_count": 175,
   "metadata": {},
   "outputs": [],
   "source": [
    "future_data = scaled_data[-window_size:]\n",
    "for i in range(N * 24 - window_size):\n",
    "    next_data = model.predict(future_data[-window_size:].reshape(1, -1))\n",
    "    future_data = np.vstack((future_data, next_data))\n",
    "future_predictions = scaler.inverse_transform(future_data)\n",
    "future_output_df = pd.DataFrame(future_predictions, columns=output_parameters)\n",
    "future_output_df[\"timestamp\"] = future_dates\n",
    "future_output_df.set_index(\"timestamp\", inplace=True)"
   ]
  },
  {
   "cell_type": "code",
   "execution_count": 176,
   "metadata": {},
   "outputs": [
    {
     "name": "stdout",
     "output_type": "stream",
     "text": [
      "                     Temperature  Precipitation  Snowfall  Totalcloudiness  \\\n",
      "timestamp                                                                    \n",
      "2023-07-01 00:00:00    21.890530            0.5       0.0       100.000000   \n",
      "2023-07-01 01:00:00    19.730530            0.4       0.0       100.000000   \n",
      "2023-07-01 02:00:00    18.880530            0.6       0.0       100.000000   \n",
      "2023-07-01 03:00:00    18.180529            0.8       0.0        43.000000   \n",
      "2023-07-01 04:00:00    17.660528            0.2       0.0         9.600000   \n",
      "2023-07-01 05:00:00    17.500528            0.1       0.0        30.000002   \n",
      "2023-07-01 06:00:00    17.620530            0.0       0.0       100.000000   \n",
      "2023-07-01 07:00:00    18.240528            0.2       0.0       100.000000   \n",
      "2023-07-01 08:00:00    17.940529            0.9       0.0       100.000000   \n",
      "2023-07-01 09:00:00    18.580528            0.3       0.0       100.000000   \n",
      "2023-07-01 10:00:00    18.580528            0.7       0.0       100.000000   \n",
      "2023-07-01 11:00:00    18.740528            1.9       0.0       100.000000   \n",
      "2023-07-01 12:00:00    19.710530            0.9       0.0       100.000000   \n",
      "2023-07-01 13:00:00    20.360529            0.0       0.0        84.000000   \n",
      "2023-07-01 14:00:00    21.650530            0.5       0.0        75.000000   \n",
      "2023-07-01 15:00:00    21.500528            0.4       0.0        71.000000   \n",
      "2023-07-01 16:00:00    20.750528            0.1       0.0        58.000000   \n",
      "2023-07-01 17:00:00    21.350529            0.1       0.0        51.000000   \n",
      "2023-07-01 18:00:00    22.460530            0.0       0.0        52.000000   \n",
      "2023-07-01 19:00:00    22.570530            0.1       0.0        79.000000   \n",
      "2023-07-01 20:00:00    22.310530            0.0       0.0        29.000000   \n",
      "2023-07-01 21:00:00    21.550530            0.0       0.0        10.000000   \n",
      "2023-07-01 22:00:00    19.920528            0.0       0.0        10.000000   \n",
      "2023-07-01 23:00:00    18.770529            0.0       0.0       100.000000   \n",
      "\n",
      "                     Lowcloudcover  Mediumcloudcover  Highcloudcover  \\\n",
      "timestamp                                                              \n",
      "2023-07-01 00:00:00           15.0             100.0           100.0   \n",
      "2023-07-01 01:00:00            0.0             100.0           100.0   \n",
      "2023-07-01 02:00:00          100.0             100.0           100.0   \n",
      "2023-07-01 03:00:00            0.0              43.0             0.0   \n",
      "2023-07-01 04:00:00           32.0               6.0             0.0   \n",
      "2023-07-01 05:00:00          100.0               0.0             0.0   \n",
      "2023-07-01 06:00:00           93.0             100.0            23.0   \n",
      "2023-07-01 07:00:00          100.0             100.0           100.0   \n",
      "2023-07-01 08:00:00          100.0             100.0           100.0   \n",
      "2023-07-01 09:00:00          100.0             100.0           100.0   \n",
      "2023-07-01 10:00:00          100.0             100.0           100.0   \n",
      "2023-07-01 11:00:00          100.0             100.0           100.0   \n",
      "2023-07-01 12:00:00           55.0             100.0           100.0   \n",
      "2023-07-01 13:00:00            1.0              84.0            51.0   \n",
      "2023-07-01 14:00:00           17.0              75.0            75.0   \n",
      "2023-07-01 15:00:00            0.0              71.0            71.0   \n",
      "2023-07-01 16:00:00           11.0               2.0            58.0   \n",
      "2023-07-01 17:00:00           12.0               0.0            51.0   \n",
      "2023-07-01 18:00:00           11.0               0.0            52.0   \n",
      "2023-07-01 19:00:00            8.0               0.0            79.0   \n",
      "2023-07-01 20:00:00            0.0               0.0            29.0   \n",
      "2023-07-01 21:00:00            0.0               0.0            10.0   \n",
      "2023-07-01 22:00:00            2.0               0.0            10.0   \n",
      "2023-07-01 23:00:00            0.0               0.0           100.0   \n",
      "\n",
      "                     Pressure  WindSpeed  WindDirection  WindGusts  \n",
      "timestamp                                                           \n",
      "2023-07-01 00:00:00    1014.4   6.216912      244.25931        9.6  \n",
      "2023-07-01 01:00:00    1014.7   6.670832      246.12473       11.0  \n",
      "2023-07-01 02:00:00    1014.8   5.162364      248.40470        8.8  \n",
      "2023-07-01 03:00:00    1014.7   2.193171      223.15239        3.8  \n",
      "2023-07-01 04:00:00    1013.9   2.184033      195.94540        3.1  \n",
      "2023-07-01 05:00:00    1014.4   1.303840      212.47119        2.3  \n",
      "2023-07-01 06:00:00    1014.2   0.728011      195.94540        1.8  \n",
      "2023-07-01 07:00:00    1014.1   1.019804      281.30994        2.1  \n",
      "2023-07-01 08:00:00    1014.5   2.061553      284.03625        3.2  \n",
      "2023-07-01 09:00:00    1014.7   1.897367      288.43497        3.1  \n",
      "2023-07-01 10:00:00    1015.3   2.109502      301.42957        1.9  \n",
      "2023-07-01 11:00:00    1015.5   1.802776      289.44003        2.5  \n",
      "2023-07-01 12:00:00    1015.2   2.121320      278.13010        3.0  \n",
      "2023-07-01 13:00:00    1014.9   2.353720      257.73523        4.3  \n",
      "2023-07-01 14:00:00    1013.5   5.656854      261.86990        5.7  \n",
      "2023-07-01 15:00:00    1013.4   5.813777      266.05480        5.9  \n",
      "2023-07-01 16:00:00    1012.9   5.900000      270.00000        5.8  \n",
      "2023-07-01 17:00:00    1013.0   5.532630      276.22583        5.5  \n",
      "2023-07-01 18:00:00    1012.9   4.079216      281.30994        5.4  \n",
      "2023-07-01 19:00:00    1012.2   3.298485      284.03625        5.7  \n",
      "2023-07-01 20:00:00    1012.2   3.931921      277.30576        5.6  \n",
      "2023-07-01 21:00:00    1011.9   3.201562      268.21008        4.9  \n",
      "2023-07-01 22:00:00    1012.6   2.483948      220.10090        3.8  \n",
      "2023-07-01 23:00:00    1013.2   2.531798      189.09027        3.7  \n"
     ]
    }
   ],
   "source": [
    "print(future_output_df)"
   ]
  }
 ],
 "metadata": {
  "kernelspec": {
   "display_name": "base",
   "language": "python",
   "name": "python3"
  },
  "language_info": {
   "codemirror_mode": {
    "name": "ipython",
    "version": 3
   },
   "file_extension": ".py",
   "mimetype": "text/x-python",
   "name": "python",
   "nbconvert_exporter": "python",
   "pygments_lexer": "ipython3",
   "version": "3.10.11"
  },
  "orig_nbformat": 4
 },
 "nbformat": 4,
 "nbformat_minor": 2
}
