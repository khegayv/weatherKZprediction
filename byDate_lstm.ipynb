{
 "cells": [
  {
   "cell_type": "code",
   "execution_count": 53,
   "metadata": {},
   "outputs": [],
   "source": [
    "import pandas as pd\n",
    "import numpy as np\n",
    "from sklearn.preprocessing import MinMaxScaler\n",
    "from keras.models import Sequential\n",
    "from keras.layers import LSTM, Dense\n",
    "from sklearn.metrics import mean_squared_error, mean_absolute_error, r2_score\n"
   ]
  },
  {
   "cell_type": "code",
   "execution_count": 2,
   "metadata": {},
   "outputs": [],
   "source": [
    "train_data = pd.read_excel(\"Train.xlsx\")\n",
    "test_data = pd.read_excel(\"Test.xlsx\")\n"
   ]
  },
  {
   "cell_type": "code",
   "execution_count": 40,
   "metadata": {},
   "outputs": [],
   "source": [
    "data = pd.concat([train_data, test_data], axis=0)"
   ]
  },
  {
   "cell_type": "code",
   "execution_count": 42,
   "metadata": {},
   "outputs": [
    {
     "name": "stdout",
     "output_type": "stream",
     "text": [
      "Index(['timestamp', 'Temperature', 'Precipitation', 'Snowfall',\n",
      "       'Totalcloudiness', 'Highcloudcover', 'Mediumcloudcover',\n",
      "       'Lowcloudcover', 'Pressure', 'Windspeedm/s', 'WindDirection',\n",
      "       'WindGusts'],\n",
      "      dtype='object')\n"
     ]
    }
   ],
   "source": [
    "print(data.columns)\n"
   ]
  },
  {
   "cell_type": "code",
   "execution_count": 43,
   "metadata": {},
   "outputs": [],
   "source": [
    "input_parameters = [\"timestamp\"]\n",
    "output_parameters = [\"Temperature\", \"Precipitation\", \"Snowfall\", \"Totalcloudiness\",\"Lowcloudcover\", \"Mediumcloudcover\", \"Highcloudcover\",\"Pressure\", \"Windspeedm/s\", \"WindDirection\", \"WindGusts\"]\n"
   ]
  },
  {
   "cell_type": "code",
   "execution_count": 44,
   "metadata": {},
   "outputs": [],
   "source": [
    "data[\"timestamp\"] = pd.to_datetime(data[\"timestamp\"], format=\"%Y-%m-%dT%H:%M:%S\")\n",
    "data.set_index(\"timestamp\", inplace=True)\n",
    "data.sort_index(inplace=True)\n"
   ]
  },
  {
   "cell_type": "code",
   "execution_count": 45,
   "metadata": {},
   "outputs": [],
   "source": [
    "data.fillna(method=\"ffill\", inplace=True)\n"
   ]
  },
  {
   "cell_type": "code",
   "execution_count": 46,
   "metadata": {},
   "outputs": [],
   "source": [
    "scaler = MinMaxScaler()\n",
    "scaled_data = scaler.fit_transform(data)\n"
   ]
  },
  {
   "cell_type": "code",
   "execution_count": 47,
   "metadata": {},
   "outputs": [],
   "source": [
    "# Number of previous timestamps to consider as input for predicting the next timestamp\n",
    "window_size = 24\n",
    "X = []\n",
    "y = []\n",
    "for i in range(len(data) - window_size):\n",
    "    X.append(scaled_data[i:i + window_size])\n",
    "    y.append(scaled_data[i + window_size])\n",
    "\n",
    "X = np.array(X)\n",
    "y = np.array(y)\n"
   ]
  },
  {
   "cell_type": "code",
   "execution_count": 48,
   "metadata": {},
   "outputs": [],
   "source": [
    "train_size = len(train_data)\n",
    "X_train = X[:train_size]\n",
    "y_train = y[:train_size]\n",
    "X_test = X[train_size:]\n",
    "y_test = y[train_size:]\n"
   ]
  },
  {
   "cell_type": "code",
   "execution_count": 49,
   "metadata": {},
   "outputs": [],
   "source": [
    "model = Sequential()\n",
    "model.add(LSTM(units=50, return_sequences=True,input_shape=(window_size, len(data.columns))))\n",
    "model.add(LSTM(units=50))\n",
    "model.add(Dense(len(output_parameters)))\n"
   ]
  },
  {
   "cell_type": "code",
   "execution_count": 50,
   "metadata": {},
   "outputs": [],
   "source": [
    "model.compile(optimizer='adam', loss='mean_squared_error')\n"
   ]
  },
  {
   "cell_type": "code",
   "execution_count": 51,
   "metadata": {},
   "outputs": [
    {
     "name": "stdout",
     "output_type": "stream",
     "text": [
      "Epoch 1/100\n",
      "1209/1209 [==============================] - 21s 16ms/step - loss: 0.0307 - val_loss: 0.0221\n",
      "Epoch 2/100\n",
      "1209/1209 [==============================] - 19s 16ms/step - loss: 0.0245 - val_loss: 0.0210\n",
      "Epoch 3/100\n",
      "1209/1209 [==============================] - 18s 15ms/step - loss: 0.0241 - val_loss: 0.0211\n",
      "Epoch 4/100\n",
      "1209/1209 [==============================] - 22s 18ms/step - loss: 0.0239 - val_loss: 0.0209\n",
      "Epoch 5/100\n",
      "1209/1209 [==============================] - 22s 18ms/step - loss: 0.0238 - val_loss: 0.0210\n",
      "Epoch 6/100\n",
      "1209/1209 [==============================] - 16s 13ms/step - loss: 0.0237 - val_loss: 0.0207\n",
      "Epoch 7/100\n",
      "1209/1209 [==============================] - 17s 14ms/step - loss: 0.0235 - val_loss: 0.0212\n",
      "Epoch 8/100\n",
      "1209/1209 [==============================] - 22s 18ms/step - loss: 0.0235 - val_loss: 0.0207\n",
      "Epoch 9/100\n",
      "1209/1209 [==============================] - 22s 18ms/step - loss: 0.0234 - val_loss: 0.0204\n",
      "Epoch 10/100\n",
      "1209/1209 [==============================] - 23s 19ms/step - loss: 0.0234 - val_loss: 0.0208\n",
      "Epoch 11/100\n",
      "1209/1209 [==============================] - 22s 19ms/step - loss: 0.0233 - val_loss: 0.0206\n",
      "Epoch 12/100\n",
      "1209/1209 [==============================] - 23s 19ms/step - loss: 0.0232 - val_loss: 0.0205\n",
      "Epoch 13/100\n",
      "1209/1209 [==============================] - 23s 19ms/step - loss: 0.0232 - val_loss: 0.0202\n",
      "Epoch 14/100\n",
      "1209/1209 [==============================] - 22s 19ms/step - loss: 0.0231 - val_loss: 0.0203\n",
      "Epoch 15/100\n",
      "1209/1209 [==============================] - 23s 19ms/step - loss: 0.0230 - val_loss: 0.0204\n",
      "Epoch 16/100\n",
      "1209/1209 [==============================] - 23s 19ms/step - loss: 0.0230 - val_loss: 0.0204\n",
      "Epoch 17/100\n",
      "1209/1209 [==============================] - 23s 19ms/step - loss: 0.0229 - val_loss: 0.0203\n",
      "Epoch 18/100\n",
      "1209/1209 [==============================] - 23s 19ms/step - loss: 0.0228 - val_loss: 0.0203\n",
      "Epoch 19/100\n",
      "1209/1209 [==============================] - 23s 19ms/step - loss: 0.0227 - val_loss: 0.0203\n",
      "Epoch 20/100\n",
      "1209/1209 [==============================] - 23s 19ms/step - loss: 0.0227 - val_loss: 0.0200\n",
      "Epoch 21/100\n",
      "1209/1209 [==============================] - 23s 19ms/step - loss: 0.0226 - val_loss: 0.0203\n",
      "Epoch 22/100\n",
      "1209/1209 [==============================] - 23s 19ms/step - loss: 0.0225 - val_loss: 0.0204\n",
      "Epoch 23/100\n",
      "1209/1209 [==============================] - 23s 19ms/step - loss: 0.0225 - val_loss: 0.0203\n",
      "Epoch 24/100\n",
      "1209/1209 [==============================] - 20s 17ms/step - loss: 0.0224 - val_loss: 0.0201\n",
      "Epoch 25/100\n",
      "1209/1209 [==============================] - 19s 15ms/step - loss: 0.0223 - val_loss: 0.0205\n",
      "Epoch 26/100\n",
      "1209/1209 [==============================] - 17s 14ms/step - loss: 0.0222 - val_loss: 0.0207\n",
      "Epoch 27/100\n",
      "1209/1209 [==============================] - 13s 11ms/step - loss: 0.0221 - val_loss: 0.0204\n",
      "Epoch 28/100\n",
      "1209/1209 [==============================] - 13s 11ms/step - loss: 0.0220 - val_loss: 0.0207\n",
      "Epoch 29/100\n",
      "1209/1209 [==============================] - 13s 11ms/step - loss: 0.0220 - val_loss: 0.0202\n",
      "Epoch 30/100\n",
      "1209/1209 [==============================] - 13s 11ms/step - loss: 0.0219 - val_loss: 0.0209\n",
      "Epoch 31/100\n",
      "1209/1209 [==============================] - 13s 11ms/step - loss: 0.0218 - val_loss: 0.0206\n",
      "Epoch 32/100\n",
      "1209/1209 [==============================] - 14s 11ms/step - loss: 0.0217 - val_loss: 0.0213\n",
      "Epoch 33/100\n",
      "1209/1209 [==============================] - 14s 11ms/step - loss: 0.0216 - val_loss: 0.0210\n",
      "Epoch 34/100\n",
      "1209/1209 [==============================] - 14s 11ms/step - loss: 0.0215 - val_loss: 0.0212\n",
      "Epoch 35/100\n",
      "1209/1209 [==============================] - 14s 12ms/step - loss: 0.0214 - val_loss: 0.0212\n",
      "Epoch 36/100\n",
      "1209/1209 [==============================] - 16s 13ms/step - loss: 0.0213 - val_loss: 0.0208\n",
      "Epoch 37/100\n",
      "1209/1209 [==============================] - 19s 16ms/step - loss: 0.0212 - val_loss: 0.0211\n",
      "Epoch 38/100\n",
      "1209/1209 [==============================] - 20s 17ms/step - loss: 0.0211 - val_loss: 0.0214\n",
      "Epoch 39/100\n",
      "1209/1209 [==============================] - 20s 17ms/step - loss: 0.0210 - val_loss: 0.0217\n",
      "Epoch 40/100\n",
      "1209/1209 [==============================] - 21s 17ms/step - loss: 0.0208 - val_loss: 0.0216\n",
      "Epoch 41/100\n",
      "1209/1209 [==============================] - 15s 12ms/step - loss: 0.0207 - val_loss: 0.0217\n",
      "Epoch 42/100\n",
      "1209/1209 [==============================] - 14s 11ms/step - loss: 0.0206 - val_loss: 0.0216\n",
      "Epoch 43/100\n",
      "1209/1209 [==============================] - 14s 11ms/step - loss: 0.0204 - val_loss: 0.0220\n",
      "Epoch 44/100\n",
      "1209/1209 [==============================] - 13s 11ms/step - loss: 0.0203 - val_loss: 0.0223\n",
      "Epoch 45/100\n",
      "1209/1209 [==============================] - 14s 11ms/step - loss: 0.0202 - val_loss: 0.0225\n",
      "Epoch 46/100\n",
      "1209/1209 [==============================] - 14s 12ms/step - loss: 0.0200 - val_loss: 0.0224\n",
      "Epoch 47/100\n",
      "1209/1209 [==============================] - 14s 11ms/step - loss: 0.0199 - val_loss: 0.0226\n",
      "Epoch 48/100\n",
      "1209/1209 [==============================] - 14s 12ms/step - loss: 0.0197 - val_loss: 0.0226\n",
      "Epoch 49/100\n",
      "1209/1209 [==============================] - 14s 12ms/step - loss: 0.0196 - val_loss: 0.0230\n",
      "Epoch 50/100\n",
      "1209/1209 [==============================] - 14s 12ms/step - loss: 0.0194 - val_loss: 0.0223\n",
      "Epoch 51/100\n",
      "1209/1209 [==============================] - 15s 12ms/step - loss: 0.0192 - val_loss: 0.0225\n",
      "Epoch 52/100\n",
      "1209/1209 [==============================] - 16s 13ms/step - loss: 0.0191 - val_loss: 0.0224\n",
      "Epoch 53/100\n",
      "1209/1209 [==============================] - 16s 13ms/step - loss: 0.0189 - val_loss: 0.0226\n",
      "Epoch 54/100\n",
      "1209/1209 [==============================] - 16s 13ms/step - loss: 0.0187 - val_loss: 0.0232\n",
      "Epoch 55/100\n",
      "1209/1209 [==============================] - 16s 13ms/step - loss: 0.0186 - val_loss: 0.0231\n",
      "Epoch 56/100\n",
      "1209/1209 [==============================] - 16s 13ms/step - loss: 0.0184 - val_loss: 0.0236\n",
      "Epoch 57/100\n",
      "1209/1209 [==============================] - 16s 13ms/step - loss: 0.0183 - val_loss: 0.0237\n",
      "Epoch 58/100\n",
      "1209/1209 [==============================] - 16s 13ms/step - loss: 0.0181 - val_loss: 0.0235\n",
      "Epoch 59/100\n",
      "1209/1209 [==============================] - 16s 13ms/step - loss: 0.0179 - val_loss: 0.0240\n",
      "Epoch 60/100\n",
      "1209/1209 [==============================] - 16s 13ms/step - loss: 0.0178 - val_loss: 0.0238\n",
      "Epoch 61/100\n",
      "1209/1209 [==============================] - 15s 13ms/step - loss: 0.0176 - val_loss: 0.0245\n",
      "Epoch 62/100\n",
      "1209/1209 [==============================] - 19s 15ms/step - loss: 0.0175 - val_loss: 0.0245\n",
      "Epoch 63/100\n",
      "1209/1209 [==============================] - 22s 19ms/step - loss: 0.0173 - val_loss: 0.0249\n",
      "Epoch 64/100\n",
      "1209/1209 [==============================] - 23s 19ms/step - loss: 0.0172 - val_loss: 0.0252\n",
      "Epoch 65/100\n",
      "1209/1209 [==============================] - 22s 19ms/step - loss: 0.0171 - val_loss: 0.0249\n",
      "Epoch 66/100\n",
      "1209/1209 [==============================] - 22s 18ms/step - loss: 0.0169 - val_loss: 0.0259\n",
      "Epoch 67/100\n",
      "1209/1209 [==============================] - 22s 18ms/step - loss: 0.0168 - val_loss: 0.0252\n",
      "Epoch 68/100\n",
      "1209/1209 [==============================] - 22s 18ms/step - loss: 0.0166 - val_loss: 0.0258\n",
      "Epoch 69/100\n",
      "1209/1209 [==============================] - 22s 19ms/step - loss: 0.0165 - val_loss: 0.0253\n",
      "Epoch 70/100\n",
      "1209/1209 [==============================] - 22s 18ms/step - loss: 0.0163 - val_loss: 0.0263\n",
      "Epoch 71/100\n",
      "1209/1209 [==============================] - 22s 19ms/step - loss: 0.0162 - val_loss: 0.0270\n",
      "Epoch 72/100\n",
      "1209/1209 [==============================] - 22s 18ms/step - loss: 0.0161 - val_loss: 0.0256\n",
      "Epoch 73/100\n",
      "1209/1209 [==============================] - 22s 19ms/step - loss: 0.0160 - val_loss: 0.0260\n",
      "Epoch 74/100\n",
      "1209/1209 [==============================] - 22s 18ms/step - loss: 0.0158 - val_loss: 0.0258\n",
      "Epoch 75/100\n",
      "1209/1209 [==============================] - 22s 18ms/step - loss: 0.0157 - val_loss: 0.0258\n",
      "Epoch 76/100\n",
      "1209/1209 [==============================] - 22s 18ms/step - loss: 0.0156 - val_loss: 0.0266\n",
      "Epoch 77/100\n",
      "1209/1209 [==============================] - 22s 19ms/step - loss: 0.0155 - val_loss: 0.0259\n",
      "Epoch 78/100\n",
      "1209/1209 [==============================] - 22s 18ms/step - loss: 0.0154 - val_loss: 0.0262\n",
      "Epoch 79/100\n",
      "1209/1209 [==============================] - 22s 19ms/step - loss: 0.0153 - val_loss: 0.0269\n",
      "Epoch 80/100\n",
      "1209/1209 [==============================] - 22s 18ms/step - loss: 0.0151 - val_loss: 0.0259\n",
      "Epoch 81/100\n",
      "1209/1209 [==============================] - 22s 19ms/step - loss: 0.0151 - val_loss: 0.0259\n",
      "Epoch 82/100\n",
      "1209/1209 [==============================] - 22s 19ms/step - loss: 0.0149 - val_loss: 0.0260\n",
      "Epoch 83/100\n",
      "1209/1209 [==============================] - 22s 18ms/step - loss: 0.0149 - val_loss: 0.0262\n",
      "Epoch 84/100\n",
      "1209/1209 [==============================] - 22s 19ms/step - loss: 0.0148 - val_loss: 0.0262\n",
      "Epoch 85/100\n",
      "1209/1209 [==============================] - 22s 19ms/step - loss: 0.0146 - val_loss: 0.0266\n",
      "Epoch 86/100\n",
      "1209/1209 [==============================] - 23s 19ms/step - loss: 0.0146 - val_loss: 0.0263\n",
      "Epoch 87/100\n",
      "1209/1209 [==============================] - 22s 19ms/step - loss: 0.0145 - val_loss: 0.0271\n",
      "Epoch 88/100\n",
      "1209/1209 [==============================] - 22s 19ms/step - loss: 0.0144 - val_loss: 0.0271\n",
      "Epoch 89/100\n",
      "1209/1209 [==============================] - 22s 19ms/step - loss: 0.0143 - val_loss: 0.0271\n",
      "Epoch 90/100\n",
      "1209/1209 [==============================] - 22s 19ms/step - loss: 0.0142 - val_loss: 0.0264\n",
      "Epoch 91/100\n",
      "1209/1209 [==============================] - 14s 12ms/step - loss: 0.0142 - val_loss: 0.0261\n",
      "Epoch 92/100\n",
      "1209/1209 [==============================] - 13s 11ms/step - loss: 0.0141 - val_loss: 0.0274\n",
      "Epoch 93/100\n",
      "1209/1209 [==============================] - 14s 11ms/step - loss: 0.0140 - val_loss: 0.0266\n",
      "Epoch 94/100\n",
      "1209/1209 [==============================] - 14s 11ms/step - loss: 0.0139 - val_loss: 0.0268\n",
      "Epoch 95/100\n",
      "1209/1209 [==============================] - 14s 11ms/step - loss: 0.0139 - val_loss: 0.0281\n",
      "Epoch 96/100\n",
      "1209/1209 [==============================] - 14s 11ms/step - loss: 0.0138 - val_loss: 0.0271\n",
      "Epoch 97/100\n",
      "1209/1209 [==============================] - 14s 11ms/step - loss: 0.0137 - val_loss: 0.0264\n",
      "Epoch 98/100\n",
      "1209/1209 [==============================] - 14s 11ms/step - loss: 0.0136 - val_loss: 0.0270\n",
      "Epoch 99/100\n",
      "1209/1209 [==============================] - 15s 12ms/step - loss: 0.0136 - val_loss: 0.0269\n",
      "Epoch 100/100\n",
      "1209/1209 [==============================] - 16s 13ms/step - loss: 0.0135 - val_loss: 0.0273\n"
     ]
    },
    {
     "data": {
      "text/plain": [
       "<keras.callbacks.History at 0x19039852500>"
      ]
     },
     "execution_count": 51,
     "metadata": {},
     "output_type": "execute_result"
    }
   ],
   "source": [
    "model.fit(X_train, y_train, epochs=100, batch_size=32,validation_data=(X_test, y_test))\n"
   ]
  },
  {
   "cell_type": "code",
   "execution_count": 52,
   "metadata": {},
   "outputs": [
    {
     "name": "stdout",
     "output_type": "stream",
     "text": [
      "22/22 [==============================] - 0s 4ms/step\n",
      "                     Temperature  Precipitation  Snowfall  Totalcloudiness  \\\n",
      "timestamp                                                                    \n",
      "2023-06-02 00:00:00    23.629255       0.001321 -0.032493        41.234798   \n",
      "2023-06-02 01:00:00    21.037395       0.018785 -0.036330        60.129238   \n",
      "2023-06-02 02:00:00    18.373285       0.018493  0.000372        55.344486   \n",
      "2023-06-02 03:00:00    17.234438       0.015557 -0.010401        78.325211   \n",
      "2023-06-02 04:00:00    14.992988      -0.033911 -0.015247        28.106016   \n",
      "...                          ...            ...       ...              ...   \n",
      "2023-06-30 19:00:00    21.916382       0.002984 -0.011210        11.322035   \n",
      "2023-06-30 20:00:00    23.256220       0.030522  0.015275        82.952942   \n",
      "2023-06-30 21:00:00    21.796694      -0.001396  0.002007        18.627501   \n",
      "2023-06-30 22:00:00    20.428364       0.007380  0.014906        14.852391   \n",
      "2023-06-30 23:00:00    20.000071       0.028026  0.016203        20.128618   \n",
      "\n",
      "                     Lowcloudcover  Mediumcloudcover  Highcloudcover  \\\n",
      "timestamp                                                              \n",
      "2023-06-02 00:00:00      43.029510         38.908775        9.135960   \n",
      "2023-06-02 01:00:00      44.240673         56.989807       22.903288   \n",
      "2023-06-02 02:00:00      58.750893         49.156025       -4.630727   \n",
      "2023-06-02 03:00:00      54.356754         81.576668        9.714840   \n",
      "2023-06-02 04:00:00      23.980719         27.016390       -0.719480   \n",
      "...                            ...               ...             ...   \n",
      "2023-06-30 19:00:00       9.568292          3.710587        0.459878   \n",
      "2023-06-30 20:00:00      12.297543         24.975147       79.546432   \n",
      "2023-06-30 21:00:00      -3.767464         -6.596128       14.625822   \n",
      "2023-06-30 22:00:00       4.292096         -1.649356       16.239325   \n",
      "2023-06-30 23:00:00       4.270429          4.025483       25.078831   \n",
      "\n",
      "                        Pressure  Windspeedm/s  WindDirection  WindGusts  \n",
      "timestamp                                                                 \n",
      "2023-06-02 00:00:00  1011.619385      0.559823     245.222321   2.067731  \n",
      "2023-06-02 01:00:00  1016.918762      0.963914     244.521149   3.056142  \n",
      "2023-06-02 02:00:00  1016.701172     -0.168671     207.870407   2.782059  \n",
      "2023-06-02 03:00:00  1019.722473      0.521063     266.604462   3.049323  \n",
      "2023-06-02 04:00:00  1020.387146      1.814814     273.930328   2.518488  \n",
      "...                          ...           ...            ...        ...  \n",
      "2023-06-30 19:00:00  1015.689392      3.915474     275.400055   5.524550  \n",
      "2023-06-30 20:00:00  1015.419617      3.556051     263.472290   5.085146  \n",
      "2023-06-30 21:00:00  1015.838257      4.254301     280.608124   6.222796  \n",
      "2023-06-30 22:00:00  1015.497131      3.107213     235.840408   5.442592  \n",
      "2023-06-30 23:00:00  1016.016174      1.868406     172.647812   4.047471  \n",
      "\n",
      "[696 rows x 11 columns]\n"
     ]
    }
   ],
   "source": [
    "predictions = model.predict(X_test)\n",
    "\n",
    "predictions = scaler.inverse_transform(predictions)\n",
    "output_dates = data.index[train_size + window_size:].to_list()\n",
    "output_df = pd.DataFrame(predictions, columns=output_parameters)\n",
    "output_df[\"timestamp\"] = output_dates\n",
    "output_df.set_index(\"timestamp\", inplace=True)\n",
    "print(output_df)\n"
   ]
  },
  {
   "cell_type": "code",
   "execution_count": 56,
   "metadata": {},
   "outputs": [
    {
     "name": "stdout",
     "output_type": "stream",
     "text": [
      "Mean Squared Error (MSE): 1843.190833030358\n",
      "Mean Absolute Error (MAE): 17.713046051816544\n",
      "Root Mean Squared Error (RMSE): 42.932398407617036\n"
     ]
    }
   ],
   "source": [
    "output_df.index = test_data.index[:len(output_df)]\n",
    "\n",
    "# Calculate errors\n",
    "mse = mean_squared_error(\n",
    "    test_data[output_parameters][:len(output_df)], output_df)\n",
    "mae = mean_absolute_error(\n",
    "    test_data[output_parameters][:len(output_df)], output_df)\n",
    "rmse = np.sqrt(mse)\n",
    "\n",
    "# Print the errors\n",
    "print(\"Mean Squared Error (MSE):\", mse)\n",
    "print(\"Mean Absolute Error (MAE):\", mae)\n",
    "print(\"Root Mean Squared Error (RMSE):\", rmse)\n"
   ]
  }
 ],
 "metadata": {
  "kernelspec": {
   "display_name": "base",
   "language": "python",
   "name": "python3"
  },
  "language_info": {
   "codemirror_mode": {
    "name": "ipython",
    "version": 3
   },
   "file_extension": ".py",
   "mimetype": "text/x-python",
   "name": "python",
   "nbconvert_exporter": "python",
   "pygments_lexer": "ipython3",
   "version": "3.10.11"
  },
  "orig_nbformat": 4
 },
 "nbformat": 4,
 "nbformat_minor": 2
}
